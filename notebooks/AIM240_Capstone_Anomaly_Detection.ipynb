{
  "nbformat": 4,
  "nbformat_minor": 0,
  "metadata": {
    "colab": {
      "provenance": []
    },
    "kernelspec": {
      "name": "python3",
      "display_name": "Python 3"
    },
    "language_info": {
      "name": "python"
    }
  },
  "cells": [
    {
      "cell_type": "markdown",
      "source": [
        "# AIM240 Capstone — Anomaly Detection in Credit Card Fraud - Isolation Foresst vs LightGBM\n",
        "\n",
        "**Edward Smith Aim240 AI Capstone Project class 25819 Thursday 5p-640p 0116-050925 Sp25 Cgc Professor Dodd**\n",
        "\n",
        "This project uses unsupervised machine learning to detect anomalies in a credit card transaction dataset. The primary algorithm is Isolation Forest, with LightGBM used for supervised benchmarking. Results are optimized and evaluated for deployment efficiency in low-resource environments, building on the AIM230 Case Study Assignment project series."
      ],
      "metadata": {
        "id": "N0B603pnNwCL"
      }
    },
    {
      "cell_type": "code",
      "execution_count": null,
      "metadata": {
        "colab": {
          "base_uri": "https://localhost:8080/",
          "height": 273
        },
        "id": "ahOPXworLf_x",
        "outputId": "9df81ad7-29d9-4927-bf98-160189f0b6a6"
      },
      "outputs": [
        {
          "output_type": "stream",
          "name": "stdout",
          "text": [
            "Dataset shape: (284807, 31)\n"
          ]
        },
        {
          "output_type": "execute_result",
          "data": {
            "text/plain": [
              "   Time        V1        V2        V3        V4        V5        V6        V7  \\\n",
              "0   0.0 -1.359807 -0.072781  2.536347  1.378155 -0.338321  0.462388  0.239599   \n",
              "1   0.0  1.191857  0.266151  0.166480  0.448154  0.060018 -0.082361 -0.078803   \n",
              "2   1.0 -1.358354 -1.340163  1.773209  0.379780 -0.503198  1.800499  0.791461   \n",
              "3   1.0 -0.966272 -0.185226  1.792993 -0.863291 -0.010309  1.247203  0.237609   \n",
              "4   2.0 -1.158233  0.877737  1.548718  0.403034 -0.407193  0.095921  0.592941   \n",
              "\n",
              "         V8        V9  ...       V21       V22       V23       V24       V25  \\\n",
              "0  0.098698  0.363787  ... -0.018307  0.277838 -0.110474  0.066928  0.128539   \n",
              "1  0.085102 -0.255425  ... -0.225775 -0.638672  0.101288 -0.339846  0.167170   \n",
              "2  0.247676 -1.514654  ...  0.247998  0.771679  0.909412 -0.689281 -0.327642   \n",
              "3  0.377436 -1.387024  ... -0.108300  0.005274 -0.190321 -1.175575  0.647376   \n",
              "4 -0.270533  0.817739  ... -0.009431  0.798278 -0.137458  0.141267 -0.206010   \n",
              "\n",
              "        V26       V27       V28  Amount  Class  \n",
              "0 -0.189115  0.133558 -0.021053  149.62      0  \n",
              "1  0.125895 -0.008983  0.014724    2.69      0  \n",
              "2 -0.139097 -0.055353 -0.059752  378.66      0  \n",
              "3 -0.221929  0.062723  0.061458  123.50      0  \n",
              "4  0.502292  0.219422  0.215153   69.99      0  \n",
              "\n",
              "[5 rows x 31 columns]"
            ],
            "text/html": [
              "\n",
              "  <div id=\"df-95d91f1f-94c2-4fa0-881b-582542c88f9e\" class=\"colab-df-container\">\n",
              "    <div>\n",
              "<style scoped>\n",
              "    .dataframe tbody tr th:only-of-type {\n",
              "        vertical-align: middle;\n",
              "    }\n",
              "\n",
              "    .dataframe tbody tr th {\n",
              "        vertical-align: top;\n",
              "    }\n",
              "\n",
              "    .dataframe thead th {\n",
              "        text-align: right;\n",
              "    }\n",
              "</style>\n",
              "<table border=\"1\" class=\"dataframe\">\n",
              "  <thead>\n",
              "    <tr style=\"text-align: right;\">\n",
              "      <th></th>\n",
              "      <th>Time</th>\n",
              "      <th>V1</th>\n",
              "      <th>V2</th>\n",
              "      <th>V3</th>\n",
              "      <th>V4</th>\n",
              "      <th>V5</th>\n",
              "      <th>V6</th>\n",
              "      <th>V7</th>\n",
              "      <th>V8</th>\n",
              "      <th>V9</th>\n",
              "      <th>...</th>\n",
              "      <th>V21</th>\n",
              "      <th>V22</th>\n",
              "      <th>V23</th>\n",
              "      <th>V24</th>\n",
              "      <th>V25</th>\n",
              "      <th>V26</th>\n",
              "      <th>V27</th>\n",
              "      <th>V28</th>\n",
              "      <th>Amount</th>\n",
              "      <th>Class</th>\n",
              "    </tr>\n",
              "  </thead>\n",
              "  <tbody>\n",
              "    <tr>\n",
              "      <th>0</th>\n",
              "      <td>0.0</td>\n",
              "      <td>-1.359807</td>\n",
              "      <td>-0.072781</td>\n",
              "      <td>2.536347</td>\n",
              "      <td>1.378155</td>\n",
              "      <td>-0.338321</td>\n",
              "      <td>0.462388</td>\n",
              "      <td>0.239599</td>\n",
              "      <td>0.098698</td>\n",
              "      <td>0.363787</td>\n",
              "      <td>...</td>\n",
              "      <td>-0.018307</td>\n",
              "      <td>0.277838</td>\n",
              "      <td>-0.110474</td>\n",
              "      <td>0.066928</td>\n",
              "      <td>0.128539</td>\n",
              "      <td>-0.189115</td>\n",
              "      <td>0.133558</td>\n",
              "      <td>-0.021053</td>\n",
              "      <td>149.62</td>\n",
              "      <td>0</td>\n",
              "    </tr>\n",
              "    <tr>\n",
              "      <th>1</th>\n",
              "      <td>0.0</td>\n",
              "      <td>1.191857</td>\n",
              "      <td>0.266151</td>\n",
              "      <td>0.166480</td>\n",
              "      <td>0.448154</td>\n",
              "      <td>0.060018</td>\n",
              "      <td>-0.082361</td>\n",
              "      <td>-0.078803</td>\n",
              "      <td>0.085102</td>\n",
              "      <td>-0.255425</td>\n",
              "      <td>...</td>\n",
              "      <td>-0.225775</td>\n",
              "      <td>-0.638672</td>\n",
              "      <td>0.101288</td>\n",
              "      <td>-0.339846</td>\n",
              "      <td>0.167170</td>\n",
              "      <td>0.125895</td>\n",
              "      <td>-0.008983</td>\n",
              "      <td>0.014724</td>\n",
              "      <td>2.69</td>\n",
              "      <td>0</td>\n",
              "    </tr>\n",
              "    <tr>\n",
              "      <th>2</th>\n",
              "      <td>1.0</td>\n",
              "      <td>-1.358354</td>\n",
              "      <td>-1.340163</td>\n",
              "      <td>1.773209</td>\n",
              "      <td>0.379780</td>\n",
              "      <td>-0.503198</td>\n",
              "      <td>1.800499</td>\n",
              "      <td>0.791461</td>\n",
              "      <td>0.247676</td>\n",
              "      <td>-1.514654</td>\n",
              "      <td>...</td>\n",
              "      <td>0.247998</td>\n",
              "      <td>0.771679</td>\n",
              "      <td>0.909412</td>\n",
              "      <td>-0.689281</td>\n",
              "      <td>-0.327642</td>\n",
              "      <td>-0.139097</td>\n",
              "      <td>-0.055353</td>\n",
              "      <td>-0.059752</td>\n",
              "      <td>378.66</td>\n",
              "      <td>0</td>\n",
              "    </tr>\n",
              "    <tr>\n",
              "      <th>3</th>\n",
              "      <td>1.0</td>\n",
              "      <td>-0.966272</td>\n",
              "      <td>-0.185226</td>\n",
              "      <td>1.792993</td>\n",
              "      <td>-0.863291</td>\n",
              "      <td>-0.010309</td>\n",
              "      <td>1.247203</td>\n",
              "      <td>0.237609</td>\n",
              "      <td>0.377436</td>\n",
              "      <td>-1.387024</td>\n",
              "      <td>...</td>\n",
              "      <td>-0.108300</td>\n",
              "      <td>0.005274</td>\n",
              "      <td>-0.190321</td>\n",
              "      <td>-1.175575</td>\n",
              "      <td>0.647376</td>\n",
              "      <td>-0.221929</td>\n",
              "      <td>0.062723</td>\n",
              "      <td>0.061458</td>\n",
              "      <td>123.50</td>\n",
              "      <td>0</td>\n",
              "    </tr>\n",
              "    <tr>\n",
              "      <th>4</th>\n",
              "      <td>2.0</td>\n",
              "      <td>-1.158233</td>\n",
              "      <td>0.877737</td>\n",
              "      <td>1.548718</td>\n",
              "      <td>0.403034</td>\n",
              "      <td>-0.407193</td>\n",
              "      <td>0.095921</td>\n",
              "      <td>0.592941</td>\n",
              "      <td>-0.270533</td>\n",
              "      <td>0.817739</td>\n",
              "      <td>...</td>\n",
              "      <td>-0.009431</td>\n",
              "      <td>0.798278</td>\n",
              "      <td>-0.137458</td>\n",
              "      <td>0.141267</td>\n",
              "      <td>-0.206010</td>\n",
              "      <td>0.502292</td>\n",
              "      <td>0.219422</td>\n",
              "      <td>0.215153</td>\n",
              "      <td>69.99</td>\n",
              "      <td>0</td>\n",
              "    </tr>\n",
              "  </tbody>\n",
              "</table>\n",
              "<p>5 rows × 31 columns</p>\n",
              "</div>\n",
              "    <div class=\"colab-df-buttons\">\n",
              "\n",
              "  <div class=\"colab-df-container\">\n",
              "    <button class=\"colab-df-convert\" onclick=\"convertToInteractive('df-95d91f1f-94c2-4fa0-881b-582542c88f9e')\"\n",
              "            title=\"Convert this dataframe to an interactive table.\"\n",
              "            style=\"display:none;\">\n",
              "\n",
              "  <svg xmlns=\"http://www.w3.org/2000/svg\" height=\"24px\" viewBox=\"0 -960 960 960\">\n",
              "    <path d=\"M120-120v-720h720v720H120Zm60-500h600v-160H180v160Zm220 220h160v-160H400v160Zm0 220h160v-160H400v160ZM180-400h160v-160H180v160Zm440 0h160v-160H620v160ZM180-180h160v-160H180v160Zm440 0h160v-160H620v160Z\"/>\n",
              "  </svg>\n",
              "    </button>\n",
              "\n",
              "  <style>\n",
              "    .colab-df-container {\n",
              "      display:flex;\n",
              "      gap: 12px;\n",
              "    }\n",
              "\n",
              "    .colab-df-convert {\n",
              "      background-color: #E8F0FE;\n",
              "      border: none;\n",
              "      border-radius: 50%;\n",
              "      cursor: pointer;\n",
              "      display: none;\n",
              "      fill: #1967D2;\n",
              "      height: 32px;\n",
              "      padding: 0 0 0 0;\n",
              "      width: 32px;\n",
              "    }\n",
              "\n",
              "    .colab-df-convert:hover {\n",
              "      background-color: #E2EBFA;\n",
              "      box-shadow: 0px 1px 2px rgba(60, 64, 67, 0.3), 0px 1px 3px 1px rgba(60, 64, 67, 0.15);\n",
              "      fill: #174EA6;\n",
              "    }\n",
              "\n",
              "    .colab-df-buttons div {\n",
              "      margin-bottom: 4px;\n",
              "    }\n",
              "\n",
              "    [theme=dark] .colab-df-convert {\n",
              "      background-color: #3B4455;\n",
              "      fill: #D2E3FC;\n",
              "    }\n",
              "\n",
              "    [theme=dark] .colab-df-convert:hover {\n",
              "      background-color: #434B5C;\n",
              "      box-shadow: 0px 1px 3px 1px rgba(0, 0, 0, 0.15);\n",
              "      filter: drop-shadow(0px 1px 2px rgba(0, 0, 0, 0.3));\n",
              "      fill: #FFFFFF;\n",
              "    }\n",
              "  </style>\n",
              "\n",
              "    <script>\n",
              "      const buttonEl =\n",
              "        document.querySelector('#df-95d91f1f-94c2-4fa0-881b-582542c88f9e button.colab-df-convert');\n",
              "      buttonEl.style.display =\n",
              "        google.colab.kernel.accessAllowed ? 'block' : 'none';\n",
              "\n",
              "      async function convertToInteractive(key) {\n",
              "        const element = document.querySelector('#df-95d91f1f-94c2-4fa0-881b-582542c88f9e');\n",
              "        const dataTable =\n",
              "          await google.colab.kernel.invokeFunction('convertToInteractive',\n",
              "                                                    [key], {});\n",
              "        if (!dataTable) return;\n",
              "\n",
              "        const docLinkHtml = 'Like what you see? Visit the ' +\n",
              "          '<a target=\"_blank\" href=https://colab.research.google.com/notebooks/data_table.ipynb>data table notebook</a>'\n",
              "          + ' to learn more about interactive tables.';\n",
              "        element.innerHTML = '';\n",
              "        dataTable['output_type'] = 'display_data';\n",
              "        await google.colab.output.renderOutput(dataTable, element);\n",
              "        const docLink = document.createElement('div');\n",
              "        docLink.innerHTML = docLinkHtml;\n",
              "        element.appendChild(docLink);\n",
              "      }\n",
              "    </script>\n",
              "  </div>\n",
              "\n",
              "\n",
              "    <div id=\"df-da22fbf8-d7e8-45fd-8759-f95f2efd4d71\">\n",
              "      <button class=\"colab-df-quickchart\" onclick=\"quickchart('df-da22fbf8-d7e8-45fd-8759-f95f2efd4d71')\"\n",
              "                title=\"Suggest charts\"\n",
              "                style=\"display:none;\">\n",
              "\n",
              "<svg xmlns=\"http://www.w3.org/2000/svg\" height=\"24px\"viewBox=\"0 0 24 24\"\n",
              "     width=\"24px\">\n",
              "    <g>\n",
              "        <path d=\"M19 3H5c-1.1 0-2 .9-2 2v14c0 1.1.9 2 2 2h14c1.1 0 2-.9 2-2V5c0-1.1-.9-2-2-2zM9 17H7v-7h2v7zm4 0h-2V7h2v10zm4 0h-2v-4h2v4z\"/>\n",
              "    </g>\n",
              "</svg>\n",
              "      </button>\n",
              "\n",
              "<style>\n",
              "  .colab-df-quickchart {\n",
              "      --bg-color: #E8F0FE;\n",
              "      --fill-color: #1967D2;\n",
              "      --hover-bg-color: #E2EBFA;\n",
              "      --hover-fill-color: #174EA6;\n",
              "      --disabled-fill-color: #AAA;\n",
              "      --disabled-bg-color: #DDD;\n",
              "  }\n",
              "\n",
              "  [theme=dark] .colab-df-quickchart {\n",
              "      --bg-color: #3B4455;\n",
              "      --fill-color: #D2E3FC;\n",
              "      --hover-bg-color: #434B5C;\n",
              "      --hover-fill-color: #FFFFFF;\n",
              "      --disabled-bg-color: #3B4455;\n",
              "      --disabled-fill-color: #666;\n",
              "  }\n",
              "\n",
              "  .colab-df-quickchart {\n",
              "    background-color: var(--bg-color);\n",
              "    border: none;\n",
              "    border-radius: 50%;\n",
              "    cursor: pointer;\n",
              "    display: none;\n",
              "    fill: var(--fill-color);\n",
              "    height: 32px;\n",
              "    padding: 0;\n",
              "    width: 32px;\n",
              "  }\n",
              "\n",
              "  .colab-df-quickchart:hover {\n",
              "    background-color: var(--hover-bg-color);\n",
              "    box-shadow: 0 1px 2px rgba(60, 64, 67, 0.3), 0 1px 3px 1px rgba(60, 64, 67, 0.15);\n",
              "    fill: var(--button-hover-fill-color);\n",
              "  }\n",
              "\n",
              "  .colab-df-quickchart-complete:disabled,\n",
              "  .colab-df-quickchart-complete:disabled:hover {\n",
              "    background-color: var(--disabled-bg-color);\n",
              "    fill: var(--disabled-fill-color);\n",
              "    box-shadow: none;\n",
              "  }\n",
              "\n",
              "  .colab-df-spinner {\n",
              "    border: 2px solid var(--fill-color);\n",
              "    border-color: transparent;\n",
              "    border-bottom-color: var(--fill-color);\n",
              "    animation:\n",
              "      spin 1s steps(1) infinite;\n",
              "  }\n",
              "\n",
              "  @keyframes spin {\n",
              "    0% {\n",
              "      border-color: transparent;\n",
              "      border-bottom-color: var(--fill-color);\n",
              "      border-left-color: var(--fill-color);\n",
              "    }\n",
              "    20% {\n",
              "      border-color: transparent;\n",
              "      border-left-color: var(--fill-color);\n",
              "      border-top-color: var(--fill-color);\n",
              "    }\n",
              "    30% {\n",
              "      border-color: transparent;\n",
              "      border-left-color: var(--fill-color);\n",
              "      border-top-color: var(--fill-color);\n",
              "      border-right-color: var(--fill-color);\n",
              "    }\n",
              "    40% {\n",
              "      border-color: transparent;\n",
              "      border-right-color: var(--fill-color);\n",
              "      border-top-color: var(--fill-color);\n",
              "    }\n",
              "    60% {\n",
              "      border-color: transparent;\n",
              "      border-right-color: var(--fill-color);\n",
              "    }\n",
              "    80% {\n",
              "      border-color: transparent;\n",
              "      border-right-color: var(--fill-color);\n",
              "      border-bottom-color: var(--fill-color);\n",
              "    }\n",
              "    90% {\n",
              "      border-color: transparent;\n",
              "      border-bottom-color: var(--fill-color);\n",
              "    }\n",
              "  }\n",
              "</style>\n",
              "\n",
              "      <script>\n",
              "        async function quickchart(key) {\n",
              "          const quickchartButtonEl =\n",
              "            document.querySelector('#' + key + ' button');\n",
              "          quickchartButtonEl.disabled = true;  // To prevent multiple clicks.\n",
              "          quickchartButtonEl.classList.add('colab-df-spinner');\n",
              "          try {\n",
              "            const charts = await google.colab.kernel.invokeFunction(\n",
              "                'suggestCharts', [key], {});\n",
              "          } catch (error) {\n",
              "            console.error('Error during call to suggestCharts:', error);\n",
              "          }\n",
              "          quickchartButtonEl.classList.remove('colab-df-spinner');\n",
              "          quickchartButtonEl.classList.add('colab-df-quickchart-complete');\n",
              "        }\n",
              "        (() => {\n",
              "          let quickchartButtonEl =\n",
              "            document.querySelector('#df-da22fbf8-d7e8-45fd-8759-f95f2efd4d71 button');\n",
              "          quickchartButtonEl.style.display =\n",
              "            google.colab.kernel.accessAllowed ? 'block' : 'none';\n",
              "        })();\n",
              "      </script>\n",
              "    </div>\n",
              "\n",
              "    </div>\n",
              "  </div>\n"
            ],
            "application/vnd.google.colaboratory.intrinsic+json": {
              "type": "dataframe",
              "variable_name": "df"
            }
          },
          "metadata": {},
          "execution_count": 1
        }
      ],
      "source": [
        "# Load and preview dataset\n",
        "import pandas as pd\n",
        "\n",
        "df = pd.read_csv(\"creditcard.csv\")\n",
        "print(\"Dataset shape:\", df.shape)\n",
        "df.head()\n"
      ]
    },
    {
      "cell_type": "markdown",
      "source": [
        "## Data Preprocessing\n",
        "\n",
        "To prepare the dataset for model training, the features were separated from the label column (`Class`), and feature scaling was applied using `StandardScaler`. This step ensures the model is not biased by varying numerical scales—especially important since the PCA-transformed input features span a wide range."
      ],
      "metadata": {
        "id": "J_AlKGdgOihS"
      }
    },
    {
      "cell_type": "code",
      "source": [
        "from sklearn.preprocessing import StandardScaler\n",
        "from sklearn.model_selection import train_test_split\n",
        "\n",
        "# Separate features and label\n",
        "X = df.drop(columns=[\"Class\"])\n",
        "y = df[\"Class\"]\n",
        "\n",
        "# Scale features\n",
        "scaler = StandardScaler()\n",
        "X_scaled = scaler.fit_transform(X)\n",
        "\n",
        "# Optional: train/test split for benchmarking or LightGBM\n",
        "X_train, X_test, y_train, y_test = train_test_split(X_scaled, y, test_size=0.2, random_state=42)\n",
        "\n",
        "print(\"Preprocessing complete. Scaled features shape:\", X_scaled.shape)\n"
      ],
      "metadata": {
        "colab": {
          "base_uri": "https://localhost:8080/"
        },
        "id": "F7yBC9K5OMOf",
        "outputId": "1c720810-d5a9-49d6-c3b2-c827ca2256d0"
      },
      "execution_count": null,
      "outputs": [
        {
          "output_type": "stream",
          "name": "stdout",
          "text": [
            "Preprocessing complete. Scaled features shape: (284807, 30)\n"
          ]
        }
      ]
    },
    {
      "cell_type": "markdown",
      "source": [
        "## Model Training — Isolation Forest\n",
        "\n",
        "An Isolation Forest model was trained using the scaled feature set. This algorithm is well-suited for fraud detection due to its ability to identify rare, anomalous patterns without requiring labeled data. The `contamination` parameter was set to 0.002 to reflect the low incidence of fraud in the dataset."
      ],
      "metadata": {
        "id": "wz5Ij5kfOrmf"
      }
    },
    {
      "cell_type": "code",
      "source": [
        "from sklearn.ensemble import IsolationForest\n",
        "\n",
        "# Train Isolation Forest on scaled data\n",
        "model = IsolationForest(n_estimators=100, contamination=0.002, random_state=42)\n",
        "model.fit(X_train)\n",
        "\n",
        "print(\"Model training complete.\")\n"
      ],
      "metadata": {
        "colab": {
          "base_uri": "https://localhost:8080/"
        },
        "id": "iPXuq-qsOQR2",
        "outputId": "b3f63821-5ed3-463d-af73-12e2559b98ec"
      },
      "execution_count": null,
      "outputs": [
        {
          "output_type": "stream",
          "name": "stdout",
          "text": [
            "Model training complete.\n"
          ]
        }
      ]
    },
    {
      "cell_type": "markdown",
      "source": [
        "## Fraud Detection Evaluation — Isolation Forest\n",
        "\n",
        "Although the Isolation Forest model is unsupervised and does not use labels during training, its real-world effectiveness can be evaluated by comparing its anomaly predictions against the true fraud labels (`Class` column).\n",
        "\n",
        "To enable this evaluation, model predictions of -1 (anomaly) are mapped to 1 (fraud), and 1 (normal) is mapped to 0 (not fraud). This allows the use of standard classification metrics such as precision, recall, and F1-score to assess model performance on labeled test data."
      ],
      "metadata": {
        "id": "lpePFGallnR9"
      }
    },
    {
      "cell_type": "code",
      "source": [
        "# Isolation Forest — Fraud Detection Evaluation\n",
        "from sklearn.metrics import confusion_matrix, classification_report\n",
        "import seaborn as sns\n",
        "import matplotlib.pyplot as plt\n",
        "\n",
        "# Predict using Isolation Forest (-1 = anomaly, 1 = normal)\n",
        "y_pred = model.predict(X_test)\n",
        "\n",
        "# Convert to fraud prediction: map -1 ➜ 1 (fraud), 1 ➜ 0 (normal)\n",
        "y_pred_mapped = [1 if val == -1 else 0 for val in y_pred]\n",
        "\n",
        "# Print results\n",
        "print(\"Isolation Forest — Confusion Matrix:\")\n",
        "print(confusion_matrix(y_test, y_pred_mapped))\n",
        "print(\"\\nIsolation Forest — Classification Report:\")\n",
        "print(classification_report(y_test, y_pred_mapped, digits=4))\n",
        "\n",
        "# Plot confusion matrix\n",
        "cm_if = confusion_matrix(y_test, y_pred_mapped)\n",
        "plt.figure(figsize=(6, 4))\n",
        "sns.heatmap(cm_if, annot=True, fmt=\"d\", cmap=\"Blues\")\n",
        "plt.title(\"Confusion Matrix — Isolation Forest\")\n",
        "plt.xlabel(\"Predicted\")\n",
        "plt.ylabel(\"Actual\")\n",
        "plt.tight_layout()\n",
        "plt.show()\n"
      ],
      "metadata": {
        "colab": {
          "base_uri": "https://localhost:8080/",
          "height": 650
        },
        "id": "b0SsYEDDzZ16",
        "outputId": "e31dc1a6-02f4-4ce1-a5b6-2413abe6027b"
      },
      "execution_count": null,
      "outputs": [
        {
          "output_type": "stream",
          "name": "stdout",
          "text": [
            "Isolation Forest — Confusion Matrix:\n",
            "[[56789    75]\n",
            " [   63    35]]\n",
            "\n",
            "Isolation Forest — Classification Report:\n",
            "              precision    recall  f1-score   support\n",
            "\n",
            "           0     0.9989    0.9987    0.9988     56864\n",
            "           1     0.3182    0.3571    0.3365        98\n",
            "\n",
            "    accuracy                         0.9976     56962\n",
            "   macro avg     0.6585    0.6779    0.6677     56962\n",
            "weighted avg     0.9977    0.9976    0.9976     56962\n",
            "\n"
          ]
        },
        {
          "output_type": "display_data",
          "data": {
            "text/plain": [
              "<Figure size 600x400 with 2 Axes>"
            ],
            "image/png": "[encoded data removed]"
          },
          "metadata": {}
        }
      ]
    },
    {
      "cell_type": "markdown",
      "source": [
        "## Supervised Learning Benchmark — LightGBM\n",
        "\n",
        "To compare the performance of the unsupervised Isolation Forest model, a supervised learning benchmark was implemented using LightGBM. Since the dataset includes labeled classes (fraud = 1, normal = 0), LightGBM can learn directly from the true labels. This benchmark provides a reference point for performance metrics such as precision, recall, and F1-score.\n",
        "\n",
        "The `class_weight='balanced'` parameter is applied to address the severe class imbalance in the dataset. The following evaluation includes a confusion matrix and a classification report."
      ],
      "metadata": {
        "id": "gKZbfDoJ0-H3"
      }
    },
    {
      "cell_type": "code",
      "source": [
        "# LightGBM — Supervised Fraud Detection Evaluation\n",
        "import warnings\n",
        "warnings.filterwarnings(\"ignore\")\n",
        "\n",
        "import lightgbm as lgb\n",
        "from sklearn.metrics import confusion_matrix, classification_report\n",
        "import seaborn as sns\n",
        "import matplotlib.pyplot as plt\n",
        "\n",
        "# Train LightGBM model with balanced class weights and quiet logging\n",
        "lgb_model = lgb.LGBMClassifier(random_state=42, class_weight='balanced', verbosity=-1)\n",
        "lgb_model.fit(X_train, y_train)\n",
        "\n",
        "# Predict on test set\n",
        "y_lgb_pred = lgb_model.predict(X_test)\n",
        "\n",
        "# Print evaluation results\n",
        "print(\"LightGBM — Confusion Matrix:\")\n",
        "print(confusion_matrix(y_test, y_lgb_pred))\n",
        "\n",
        "print(\"\\nLightGBM — Classification Report:\")\n",
        "print(classification_report(y_test, y_lgb_pred, digits=4))\n",
        "\n",
        "# Plot confusion matrix\n",
        "cm_lgb = confusion_matrix(y_test, y_lgb_pred)\n",
        "plt.figure(figsize=(6, 4))\n",
        "sns.heatmap(cm_lgb, annot=True, fmt=\"d\", cmap=\"Greens\")\n",
        "plt.title(\"Confusion Matrix — LightGBM\")\n",
        "plt.xlabel(\"Predicted\")\n",
        "plt.ylabel(\"Actual\")\n",
        "plt.tight_layout()\n",
        "plt.show()\n"
      ],
      "metadata": {
        "colab": {
          "base_uri": "https://localhost:8080/",
          "height": 650
        },
        "id": "i-KasFfj4fgT",
        "outputId": "ae783956-d602-4773-f4be-d9d4512dc4f8"
      },
      "execution_count": null,
      "outputs": [
        {
          "output_type": "stream",
          "name": "stdout",
          "text": [
            "LightGBM — Confusion Matrix:\n",
            "[[56858     6]\n",
            " [   19    79]]\n",
            "\n",
            "LightGBM — Classification Report:\n",
            "              precision    recall  f1-score   support\n",
            "\n",
            "           0     0.9997    0.9999    0.9998     56864\n",
            "           1     0.9294    0.8061    0.8634        98\n",
            "\n",
            "    accuracy                         0.9996     56962\n",
            "   macro avg     0.9645    0.9030    0.9316     56962\n",
            "weighted avg     0.9995    0.9996    0.9995     56962\n",
            "\n"
          ]
        },
        {
          "output_type": "display_data",
          "data": {
            "text/plain": [
              "<Figure size 600x400 with 2 Axes>"
            ],
            "image/png": "[encoded data removed]"
          },
          "metadata": {}
        }
      ]
    },
    {
      "cell_type": "markdown",
      "source": [
        "## Inference Profiling\n",
        "\n",
        "To simulate real-time deployment behavior, the Isolation Forest model was profiled using synthetic batch sizes of 16, 64, and 128. This test evaluates how inference time scales with different input sizes—an important consideration for lightweight deployment on mobile, embedded, or edge devices.\n",
        "\n",
        "The results demonstrated consistent sub-10ms inference times, indicating strong suitability for low-latency environments."
      ],
      "metadata": {
        "id": "kwbmh0nlO6oe"
      }
    },
    {
      "cell_type": "code",
      "source": [
        "import time\n",
        "\n",
        "# Simulate batch inference profiling\n",
        "batch_sizes = [16, 64, 128]\n",
        "\n",
        "for batch in batch_sizes:\n",
        "    sample = X_test[:batch]\n",
        "    start = time.time()\n",
        "    _ = model.predict(sample)\n",
        "    end = time.time()\n",
        "    print(f\"Batch size {batch} ➜ Inference time: {end - start:.5f} seconds\")\n"
      ],
      "metadata": {
        "colab": {
          "base_uri": "https://localhost:8080/"
        },
        "id": "rdxJQMcgO97f",
        "outputId": "5a6c13b7-3478-4f70-b59a-c07a57fedd89"
      },
      "execution_count": null,
      "outputs": [
        {
          "output_type": "stream",
          "name": "stdout",
          "text": [
            "Batch size 16 ➜ Inference time: 0.00765 seconds\n",
            "Batch size 64 ➜ Inference time: 0.00918 seconds\n",
            "Batch size 128 ➜ Inference time: 0.00968 seconds\n"
          ]
        }
      ]
    },
    {
      "cell_type": "markdown",
      "source": [
        "## Memory Profiling\n",
        "\n",
        "Memory usage was measured using the `psutil` library to assess the resource footprint of the Isolation Forest model during execution.\n",
        "\n",
        "Due to the nature of Jupyter/Colab environments, memory usage **may incrementally increase** with repeated cell executions. This is caused by retained object references and memory that is not automatically released between runs. To obtain a reproducible measurement, a **fresh runtime was used** before this profiling step.\n",
        "\n",
        "The reported usage was approximately **690.65 MB of RAM**, confirming suitability for deployment on modern laptops, edge devices, or lightweight cloud containers *(i.e., systems with moderate memory constraints)*. The output below reflects the model’s memory usage **immediately after reinitialization**.\n",
        "\n",
        "**NOTE:** Cleanup commands such as `gc.collect()`, `plt.close('all')`, and `del` statements can be used in development environments to manage memory manually and improve consistency between runs."
      ],
      "metadata": {
        "id": "gMBlumtRQEcM"
      }
    },
    {
      "cell_type": "code",
      "source": [
        "# Standard clean up memory before profiling (used during fresh runtime runs)\n",
        "import gc\n",
        "import matplotlib.pyplot as plt\n",
        "\n",
        "# Clear trained models and cached plots if needed\n",
        "try:\n",
        "    del model, lgb_model\n",
        "except:\n",
        "    pass\n",
        "\n",
        "gc.collect()\n",
        "plt.close('all')\n"
      ],
      "metadata": {
        "id": "I2co9Z5uB5iW"
      },
      "execution_count": null,
      "outputs": []
    },
    {
      "cell_type": "code",
      "source": [
        "import psutil\n",
        "import os\n",
        "\n",
        "# Measure memory usage of current Python process\n",
        "process = psutil.Process(os.getpid())\n",
        "mem_mb = process.memory_info().rss / 1024 ** 2\n",
        "print(f\"Memory used by Python process: {mem_mb:.2f} MB\")\n"
      ],
      "metadata": {
        "colab": {
          "base_uri": "https://localhost:8080/"
        },
        "id": "yA48uXpWQGws",
        "outputId": "5091626e-1ef0-408c-d53d-5589e48b3097"
      },
      "execution_count": null,
      "outputs": [
        {
          "output_type": "stream",
          "name": "stdout",
          "text": [
            "Memory used by Python process: 627.84 MB\n"
          ]
        }
      ]
    },
    {
      "cell_type": "markdown",
      "source": [
        "## Results Summary\n",
        "\n",
        "This project evaluated two models on the Kaggle Credit Card Fraud Detection dataset: the unsupervised Isolation Forest and the supervised LightGBM classifier.\n",
        "\n",
        "**Isolation Forest**:\n",
        "- Processed three test batches of 16, 64, and 128 transactions with average inference times under 10 milliseconds\n",
        "- Memory profiling (after a fresh runtime and cleanup) reported usage of **690.65 MB**\n",
        "- Achieved 99.76% overall accuracy with a fraud-class **F1-score of 0.3365**\n",
        "- Isolation Forest Confusion Matrix (see below output):"
      ],
      "metadata": {
        "id": "t1xYJ4CyK4RU"
      }
    },
    {
      "cell_type": "code",
      "source": [
        "# Output Isolation Forest Confusion Matrix\n",
        "from sklearn.metrics import confusion_matrix\n",
        "\n",
        "# Recall: y_pred_mapped = model predictions mapped -1 ➞ 1 (fraud), 1 ➞ 0 (not fraud)\n",
        "cm_if = confusion_matrix(y_test, y_pred_mapped)\n",
        "print(\"Isolation Forest Confusion Matrix:\\n\")\n",
        "print(cm_if)\n"
      ],
      "metadata": {
        "colab": {
          "base_uri": "https://localhost:8080/"
        },
        "id": "dYq2OKcsHtfA",
        "outputId": "6393fb49-0bdc-49cc-a46a-551640cd2300"
      },
      "execution_count": null,
      "outputs": [
        {
          "output_type": "stream",
          "name": "stdout",
          "text": [
            "Isolation Forest Confusion Matrix:\n",
            "\n",
            "[[56789    75]\n",
            " [   63    35]]\n"
          ]
        }
      ]
    },
    {
      "cell_type": "markdown",
      "source": [
        "\n",
        "**LightGBM**:\n",
        "- Served as a supervised benchmark using labeled training data\n",
        "- Achieved 99.96% overall accuracy with a fraud-class **F1-score of 0.8634**\n",
        "- Detected 79 out of 98 fraud cases with minimal false positives\n",
        "- LightGBM Confusion Matrix (see below output):"
      ],
      "metadata": {
        "id": "AnSLqki6McU6"
      }
    },
    {
      "cell_type": "code",
      "source": [
        "# Output LightGBM Confusion Matrix\n",
        "from sklearn.metrics import confusion_matrix\n",
        "\n",
        "cm_lgb = confusion_matrix(y_test, y_lgb_pred)\n",
        "print(\"LightGBM Confusion Matrix:\\n\")\n",
        "print(cm_lgb)\n"
      ],
      "metadata": {
        "colab": {
          "base_uri": "https://localhost:8080/"
        },
        "id": "Z-18sXUjMlLH",
        "outputId": "792d6df3-4cf1-4c18-c539-6c009c83e782"
      },
      "execution_count": null,
      "outputs": [
        {
          "output_type": "stream",
          "name": "stdout",
          "text": [
            "LightGBM Confusion Matrix:\n",
            "\n",
            "[[56858     6]\n",
            " [   19    79]]\n"
          ]
        }
      ]
    },
    {
      "cell_type": "markdown",
      "source": [
        "**Both models** maintained runtime stability and consistent prediction behavior across all test cases. While LightGBM significantly outperformed Isolation Forest on fraud recall and precision, the unsupervised approach remains valuable when labeled data is limited."
      ],
      "metadata": {
        "id": "auhmYmJbMpxC"
      }
    },
    {
      "cell_type": "markdown",
      "source": [
        "## Future Work and Optimization\n",
        "\n",
        "While this implementation demonstrates strong baseline performance for anomaly detection, further optimization and expansion are possible. Future efforts may include:\n",
        "\n",
        "- Integrating a real-time dashboard for fraud alert visualization.\n",
        "- Applying model pruning or distillation techniques to reduce memory usage.\n",
        "- Migrating to a framework such as PyTorch to enable native quantization support.\n",
        "- Benchmarking alternative unsupervised models for scalability in high-throughput environments."
      ],
      "metadata": {
        "id": "R7ukxbm1QfkW"
      }
    }
  ]
}